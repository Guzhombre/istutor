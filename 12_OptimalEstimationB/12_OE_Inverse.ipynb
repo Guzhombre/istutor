{
 "cells": [
  {
   "cell_type": "markdown",
   "metadata": {},
   "source": [
    "# Exercise: Combining Atmosphere & Surface Inversions \n",
    "\n",
    "David R. Thompson, Jet Propulsion Laboratory, California Institute of Technology<br>\n",
    "Contact: david.r.thompson@jpl.nasa.gov\n",
    "__________\n",
    "\n",
    "This exercise demonstrates combined surface-atmosphere fitting using Rogers et al (2000) Optimal Estimation methods.  First we import all the necessary dependencies.  You may want to replace the filepath below with your own installation of ISOFIT."
   ]
  },
  {
   "cell_type": "code",
   "execution_count": 10,
   "metadata": {},
   "outputs": [],
   "source": [
    "import sys, os\n",
    "from os.path import join\n",
    "import scipy as s\n",
    "import isofit\n",
    "\n",
    "from figure_style import *\n",
    "from isofit.core.forward import ForwardModel\n",
    "from isofit.core.geometry import Geometry\n",
    "from isofit.inversion.inverse import Inversion\n",
    "from isofit.configs.configs import Config\n",
    "from scipy.interpolate import interp1d"
   ]
  },
  {
   "cell_type": "markdown",
   "metadata": {},
   "source": [
    "Define all model components.  Our remote observation is the spatial average of a rectangular region comprising 294 spectra, so we include this information in our instrument configuration."
   ]
  },
  {
   "cell_type": "code",
   "execution_count": 13,
   "metadata": {},
   "outputs": [],
   "source": [
    "instrument_settings = {\"wavelength_file\": \"data/wavelengths.txt\",\n",
    "                       \"integrations\": 294,\n",
    "                       \"parametric_noise_file\": \"data/avirisng_noise.txt\",\n",
    "                       \"unknowns\": {\n",
    "                             \"cal_uncertainty_systematic_file\": \n",
    "                           \"../data/avirisng_systematic_error.txt\",\n",
    "                             \"uncorrelated_radiometric_uncertainty\": 0.0}}\n",
    "\n",
    "rtm_settings = {\"statevector\": {\n",
    "                  \"H2OSTR\": \n",
    "                    {\"bounds\": [1.5, 2.0], \n",
    "                     \"scale\": 0.01, \n",
    "                     \"init\": 1.75, \n",
    "                     \"prior_mean\": 1.75, \n",
    "                     \"prior_sigma\": 2.0},\n",
    "                  \"AOT550\": \n",
    "                    {\"bounds\": [0.01, 0.1], \n",
    "                     \"scale\": 0.01, \n",
    "                     \"init\": 0.05, \n",
    "                     \"prior_mean\": 0.05, \n",
    "                     \"prior_sigma\": 0.1}},\n",
    "                \"lut_grid\": {\"H2OSTR\": [1.5, 2.0], \n",
    "                            \"AOT550\": [0.01, 0.1]},\n",
    "                \"unknowns\": {\"H2O_ABSCO\": 0.01},\n",
    "                \"auto_rebuild\":False,\n",
    "                \"radiative_transfer_engines\":{\n",
    "                    \"vswir\": {\n",
    "                      \"engine_name\": \"modtran\",\n",
    "                      \"lut_path\":\"data/lut/\",\n",
    "                      \"wavelength_range\": [350,2520],\n",
    "                      \"template_file\":\"data/modtran.json\",\n",
    "                      \"lut_names\": [\"H2OSTR\", \"AOT550\"],\n",
    "                      \"statevector_names\": [\"H2OSTR\", \"AOT550\"]}}}\n",
    "\n",
    "surface_settings = {\"surface_category\": \"multicomponent_surface\",\n",
    "                    \"surface_file\": \"data/surface.mat\"}\n",
    "\n",
    "geom = Geometry()\n",
    "\n",
    "fm_config = Config({ \"forward_model\":{\"instrument\":instrument_settings,\n",
    "                   \"surface\":surface_settings,\n",
    "                   \"radiative_transfer\": rtm_settings}})\n",
    "fm = ForwardModel(fm_config)"
   ]
  },
  {
   "cell_type": "markdown",
   "metadata": {},
   "source": [
    "We will define a new object - an \"Inversion\" that finds a Maximum A Posteriori solution for the state vector, given our radiance and priors. "
   ]
  },
  {
   "cell_type": "code",
   "execution_count": 14,
   "metadata": {},
   "outputs": [],
   "source": [
    "from isofit.inversion.inverse import Inversion\n",
    "\n",
    "inversion_settings = {\"implementation\": {\n",
    " \"mode\": \"inversion\",\n",
    " \"inversion\": {\n",
    "  \"windows\": [[380.0, 1300.0], [1450, 1780.0], [1950.0, 2450.0]]}}}\n",
    "    \n",
    "inverse_config = Config(inversion_settings)\n",
    "iv = Inversion(inverse_config, fm)"
   ]
  },
  {
   "cell_type": "markdown",
   "metadata": {},
   "source": [
    "Load our Beckman Lawn reflectance, and try the inversion."
   ]
  },
  {
   "cell_type": "code",
   "execution_count": 15,
   "metadata": {},
   "outputs": [],
   "source": [
    "wavelengths, radiance = s.loadtxt('data/beckmanlawn_radiance.txt').T\n",
    "state_trajectory = iv.invert(radiance, geom)\n",
    "state_est = state_trajectory[-1]"
   ]
  },
  {
   "cell_type": "markdown",
   "metadata": {},
   "source": [
    "The inversion object contains a convenient function to interpret the resulting state vector. it gives us the estimated reflectance, best-fitting radiance, path radiance, posterior predictive covariance S_hat, Jacobian matrix K and gain Matrix G.  Recall that the Rodgers (2000) averaging matrix is given by G*K."
   ]
  },
  {
   "cell_type": "code",
   "execution_count": 16,
   "metadata": {},
   "outputs": [],
   "source": [
    "rfl_est, rdn_est, path_est, S_hat, K, G = iv.forward_uncertainty(state_est, radiance, geom)\n",
    "A = s.matmul(G,K)"
   ]
  },
  {
   "cell_type": "markdown",
   "metadata": {},
   "source": [
    "Let's compare our estimate against the measurment we obtained on site.  We need to resample it to the AVIRIS-NG wavelengths."
   ]
  },
  {
   "cell_type": "code",
   "execution_count": 17,
   "metadata": {},
   "outputs": [
    {
     "data": {
      "image/png": "[encoded data removed]",
      "text/plain": [
       "<Figure size 432x288 with 1 Axes>"
      ]
     },
     "metadata": {
      "needs_background": "light"
     },
     "output_type": "display_data"
    }
   ],
   "source": [
    "wl_insitu, rfl_insitu, fwhm = s.loadtxt('data/beckmanlawn_reflectance.txt').T\n",
    "\n",
    "wavelengths = fm.surface.wl\n",
    "rfl_insitu = interp1d(wl_insitu, rfl_insitu, bounds_error=False, fill_value='extrapolate')(fm.surface.wl)\n",
    "plt.plot(wavelengths, rfl_insitu)\n",
    "plt.plot(wavelengths, rfl_est)\n",
    "plt.xlabel('Wavelength (nm)')\n",
    "plt.ylabel('Surface reflectance')\n",
    "plt.title('Beckman Lawn')\n",
    "plt.legend(['In situ measurement','Remote retrieval']);"
   ]
  },
  {
   "cell_type": "markdown",
   "metadata": {},
   "source": [
    "Note that there is a term we have set to zero in our instrument model - the \"uncorrelated_radiometric_uncertainty\" which is due mainly to effects like calibration errors.  \n",
    "\n",
    "<b>Question:</b> Can we improve the match between the remote and in-situ reflectances by incorporating this source of uncertianty in our retrieval? What is its optimal value? How does it affect sensitivity to atmospheric parameters?"
   ]
  },
  {
   "cell_type": "markdown",
   "metadata": {},
   "source": [
    "-------------\n",
    "<b>Acknowledgements</b>: A portion of this research was performed at the Jet Propulsion Laboratory, California Institute of Technology. We acknowledge the support of a PRISM AITT grant from the National Aeronautics and Space Administration (NASA) Earth Science Technology Office. We acknowledge the support of the JPL and Caltech Presidents’ and Directors’ Fund Program. We thank other supporting sponsors including the NASA Earth Science Division for the HyspIRI preparatory campaign, the AVIRIS-NG instrument and the data analysis program “Utilization of Airborne Visible/Infrared Imaging Spectrometer Next Generation Data from an Airborne Campaign in India” NNH16ZDA001N-AVRSNG, for its support of the algorithm development; the Jet Propulsion Laboratory Research and Technology Development Program; and the NASA Center Innovation Fund managed in conjunction with the Jet Propulsion Laboratory Office of the Chief Scientist and Technologist. Copyright 2019 California Institute of Technology. US Government Support Acknowledged."
   ]
  },
  {
   "cell_type": "code",
   "execution_count": null,
   "metadata": {},
   "outputs": [],
   "source": []
  }
 ],
 "metadata": {
  "anaconda-cloud": {},
  "kernelspec": {
   "display_name": "Python 3",
   "language": "python",
   "name": "python3"
  },
  "language_info": {
   "codemirror_mode": {
    "name": "ipython",
    "version": 3
   },
   "file_extension": ".py",
   "mimetype": "text/x-python",
   "name": "python",
   "nbconvert_exporter": "python",
   "pygments_lexer": "ipython3",
   "version": "3.7.4"
  },
  "latex_envs": {
   "LaTeX_envs_menu_present": true,
   "autoclose": false,
   "autocomplete": true,
   "bibliofile": "biblio.bib",
   "cite_by": "apalike",
   "current_citInitial": 1,
   "eqLabelWithNumbers": true,
   "eqNumInitial": 1,
   "hotkeys": {
    "equation": "Ctrl-E",
    "itemize": "Ctrl-I"
   },
   "labels_anchors": false,
   "latex_user_defs": false,
   "report_style_numbering": false,
   "user_envs_cfg": false
  }
 },
 "nbformat": 4,
 "nbformat_minor": 1
}
