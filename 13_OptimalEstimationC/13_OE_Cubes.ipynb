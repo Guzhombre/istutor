{
 "cells": [
  {
   "cell_type": "markdown",
   "metadata": {},
   "source": [
    "# Exercise: Speeding up the retrievals\n",
    "\n",
    "David R. Thompson, Jet Propulsion Laboratory, California Institute of Technology<br>\n",
    "Contact: david.r.thompson@jpl.nasa.gov\n",
    "__________\n",
    "\n",
    "This exercise demonstrates segmentation and empirical line extrapolation as one of many potential methods to enable OE analysis of full data cubes.  We first import libraries and define all model components.  We will use a simple 2-dimensional state vector."
   ]
  },
  {
   "cell_type": "code",
   "execution_count": 2,
   "metadata": {},
   "outputs": [],
   "source": [
    "import sys, os\n",
    "import scipy as s\n",
    "from os.path import join\n",
    "\n",
    "sys.path.insert(0, join(os.getcwd(),'..','11_OptimalEstimation'))\n",
    "import isofit\n",
    "\n",
    "from figure_style import *\n",
    "from isofit.core.forward import ForwardModel\n",
    "from isofit.core.geometry import Geometry\n",
    "from isofit.core.inverse import Inversion\n",
    "from scipy.interpolate import interp1d \n",
    "\n",
    "instrument_config = {\"wavelength_file\": \"data/wavelengths.txt\",\n",
    "                     \"integrations\": 88,\n",
    "                     \"parametric_noise_file\": \"data/avirisng_noise.txt\",\n",
    "                     \"unknowns\": {\"channelized_radiometric_uncertainty_file\": \n",
    "                                      \"data/avirisng_systematic_error.txt\",\n",
    "                                  \"uncorrelated_radiometric_uncertainty\": 0.01}}\n",
    "\n",
    "rtm_config = {\"statevector\": {\n",
    "                \"H2OSTR\": {\"bounds\": [1.0, 1.5], \"scale\": 0.01, \"init\": 1.25,\n",
    "                           \"prior_mean\":1.25, \"prior_sigma\":2.0},\n",
    "                \"VIS\": {\"bounds\": [50,200], \"scale\": 10, \"init\": 100,\n",
    "                           \"prior_mean\":100, \"prior_sigma\":200}},\n",
    "              \"lut_grid\": { \"H2OSTR\": [1.0, 1.5], \"VIS\": [50, 200]},\n",
    "              \"lut_path\":\"data/lut/\",\n",
    "              \"wavelength_file\": \"data/wavelengths.txt\",\n",
    "              \"modtran_template_file\":\"data/modtran.json\",\n",
    "              \"domain\": {\"start\": 350, \"end\": 2520, \"step\": 0.1},\n",
    "              \"unknowns\": {\"H2O_ABSCO\": 0.01},\n",
    "              \"auto_rebuild\":False}\n",
    "\n",
    "surface_config = {\"surface_file\": \"data/surface.mat\"}\n",
    "geom = Geometry()\n",
    "\n",
    "fm = ForwardModel({\"instrument\":instrument_config,\n",
    "                   \"multicomponent_surface\":surface_config,\n",
    "                   \"modtran_radiative_transfer\": rtm_config})\n",
    "\n",
    "inverse_config = {\"windows\":[[380.0,1300.0],[1450,1780.0],[1950.0,2450.0]]}\n",
    "iv = Inversion(inverse_config, fm)"
   ]
  },
  {
   "cell_type": "markdown",
   "metadata": {},
   "source": [
    "Load a reflectance spectrum for \"Buddingtonite Bump,\" invert the radiance data to estimate a reflectance, and plot the result.  We also calculate the posterior covariance $\\hat{\\mathbf{S}}$, the averaging kernel matrix $\\mathbf{A}$, the gain matrix $\\mathbf{G}$, and the Jacobian matrix $\\mathbf{K}$. "
   ]
  },
  {
   "cell_type": "code",
   "execution_count": 3,
   "metadata": {},
   "outputs": [
    {
     "data": {
      "image/png": "[encoded data removed]",
      "text/plain": [
       "<Figure size 504x360 with 1 Axes>"
      ]
     },
     "metadata": {
      "needs_background": "light"
     },
     "output_type": "display_data"
    }
   ],
   "source": [
    "wavelengths, radiance = s.loadtxt('data/buddingtonite_rdn.txt').T\n",
    "\n",
    "# Inversion\n",
    "state_trajectory = iv.invert(radiance, geom)\n",
    "state_est = state_trajectory[-1]\n",
    "\n",
    "# Calculate A, G, and K matrices\n",
    "rfl_est, rdn_est, path_est, S_hat, K, G = iv.forward_uncertainty(state_est, radiance, geom)\n",
    "A = G @ K\n",
    "\n",
    "# Plot the result, and compare with the in-situ measurement\n",
    "figsize(7,5)\n",
    "plt.plot(wavelengths, rfl_est)\n",
    "plt.xlabel('Wavelength (nm)')\n",
    "plt.ylabel('Surface reflectance')\n",
    "plt.title('Buddingtonite Bump')\n",
    "plt.legend(['Remote retrieval']);\n",
    "plt.xlim([400,2450])\n",
    "plt.ylim([0,0.75]);"
   ]
  },
  {
   "cell_type": "markdown",
   "metadata": {},
   "source": [
    "Now we load an entire data cube of size 400 $\\times$ 400 spectra."
   ]
  },
  {
   "cell_type": "code",
   "execution_count": 4,
   "metadata": {},
   "outputs": [
    {
     "ename": "FileNotFoundError",
     "evalue": "[Errno 2] No such file or directory: 'data/ang20140625t192252_rdn_bip'",
     "output_type": "error",
     "traceback": [
      "\u001b[0;31m---------------------------------------------------------------------------\u001b[0m",
      "\u001b[0;31mFileNotFoundError\u001b[0m                         Traceback (most recent call last)",
      "\u001b[0;32m<ipython-input-4-0b69c6159af3>\u001b[0m in \u001b[0;36m<module>\u001b[0;34m\u001b[0m\n\u001b[1;32m      1\u001b[0m \u001b[0mfilename\u001b[0m \u001b[0;34m=\u001b[0m \u001b[0;34m'data/ang20140625t192252_rdn_bip'\u001b[0m\u001b[0;34m\u001b[0m\u001b[0;34m\u001b[0m\u001b[0m\n\u001b[1;32m      2\u001b[0m \u001b[0mrows\u001b[0m\u001b[0;34m,\u001b[0m \u001b[0mbands\u001b[0m\u001b[0;34m,\u001b[0m \u001b[0mcols\u001b[0m \u001b[0;34m=\u001b[0m \u001b[0;36m400\u001b[0m\u001b[0;34m,\u001b[0m \u001b[0;36m425\u001b[0m\u001b[0;34m,\u001b[0m \u001b[0;36m400\u001b[0m\u001b[0;34m\u001b[0m\u001b[0;34m\u001b[0m\u001b[0m\n\u001b[0;32m----> 3\u001b[0;31m \u001b[0mmm\u001b[0m \u001b[0;34m=\u001b[0m \u001b[0ms\u001b[0m\u001b[0;34m.\u001b[0m\u001b[0mmemmap\u001b[0m\u001b[0;34m(\u001b[0m\u001b[0mfilename\u001b[0m\u001b[0;34m,\u001b[0m \u001b[0mdtype\u001b[0m\u001b[0;34m=\u001b[0m\u001b[0ms\u001b[0m\u001b[0;34m.\u001b[0m\u001b[0mfloat32\u001b[0m\u001b[0;34m,\u001b[0m \u001b[0mmode\u001b[0m\u001b[0;34m=\u001b[0m\u001b[0;34m'r'\u001b[0m\u001b[0;34m,\u001b[0m\u001b[0mshape\u001b[0m\u001b[0;34m=\u001b[0m\u001b[0;34m(\u001b[0m\u001b[0mrows\u001b[0m\u001b[0;34m,\u001b[0m\u001b[0mcols\u001b[0m\u001b[0;34m,\u001b[0m\u001b[0mbands\u001b[0m\u001b[0;34m)\u001b[0m\u001b[0;34m)\u001b[0m\u001b[0;34m\u001b[0m\u001b[0;34m\u001b[0m\u001b[0m\n\u001b[0m\u001b[1;32m      4\u001b[0m \u001b[0;34m\u001b[0m\u001b[0m\n\u001b[1;32m      5\u001b[0m \u001b[0;31m# RGB Image, with a contrast rescaling by typical radiances\u001b[0m\u001b[0;34m\u001b[0m\u001b[0;34m\u001b[0m\u001b[0;34m\u001b[0m\u001b[0m\n",
      "\u001b[0;32m~/src/anaconda37/anaconda3/lib/python3.7/site-packages/numpy/core/memmap.py\u001b[0m in \u001b[0;36m__new__\u001b[0;34m(subtype, filename, dtype, mode, offset, shape, order)\u001b[0m\n\u001b[1;32m    223\u001b[0m             \u001b[0mf_ctx\u001b[0m \u001b[0;34m=\u001b[0m \u001b[0mcontextlib_nullcontext\u001b[0m\u001b[0;34m(\u001b[0m\u001b[0mfilename\u001b[0m\u001b[0;34m)\u001b[0m\u001b[0;34m\u001b[0m\u001b[0;34m\u001b[0m\u001b[0m\n\u001b[1;32m    224\u001b[0m         \u001b[0;32melse\u001b[0m\u001b[0;34m:\u001b[0m\u001b[0;34m\u001b[0m\u001b[0;34m\u001b[0m\u001b[0m\n\u001b[0;32m--> 225\u001b[0;31m             \u001b[0mf_ctx\u001b[0m \u001b[0;34m=\u001b[0m \u001b[0mopen\u001b[0m\u001b[0;34m(\u001b[0m\u001b[0mos_fspath\u001b[0m\u001b[0;34m(\u001b[0m\u001b[0mfilename\u001b[0m\u001b[0;34m)\u001b[0m\u001b[0;34m,\u001b[0m \u001b[0;34m(\u001b[0m\u001b[0;34m'r'\u001b[0m \u001b[0;32mif\u001b[0m \u001b[0mmode\u001b[0m \u001b[0;34m==\u001b[0m \u001b[0;34m'c'\u001b[0m \u001b[0;32melse\u001b[0m \u001b[0mmode\u001b[0m\u001b[0;34m)\u001b[0m\u001b[0;34m+\u001b[0m\u001b[0;34m'b'\u001b[0m\u001b[0;34m)\u001b[0m\u001b[0;34m\u001b[0m\u001b[0;34m\u001b[0m\u001b[0m\n\u001b[0m\u001b[1;32m    226\u001b[0m \u001b[0;34m\u001b[0m\u001b[0m\n\u001b[1;32m    227\u001b[0m         \u001b[0;32mwith\u001b[0m \u001b[0mf_ctx\u001b[0m \u001b[0;32mas\u001b[0m \u001b[0mfid\u001b[0m\u001b[0;34m:\u001b[0m\u001b[0;34m\u001b[0m\u001b[0;34m\u001b[0m\u001b[0m\n",
      "\u001b[0;31mFileNotFoundError\u001b[0m: [Errno 2] No such file or directory: 'data/ang20140625t192252_rdn_bip'"
     ]
    }
   ],
   "source": [
    "filename = 'data/ang20140625t192252_rdn_bip'\n",
    "rows, bands, cols = 400, 425, 400\n",
    "mm = s.memmap(filename, dtype=s.float32, mode='r',shape=(rows,cols,bands))\n",
    "\n",
    "# RGB Image, with a contrast rescaling by typical radiances\n",
    "rgb_indices = s.array([56,36,16])\n",
    "rgb = s.asarray(mm, dtype = s.float32)[:,:,rgb_indices]\n",
    "rgb = rgb / s.array([25.0, 25.0, 20.0])"
   ]
  },
  {
   "cell_type": "markdown",
   "metadata": {},
   "source": [
    "Our first step is to determine a representative subset of spectra upon which to perform the full atmospheric correction.  Here we exploit \"superpixel segmentation,\" clustering the scene into segments that are spatially contiguous and similar in radiance.  Many segmentation approaches can do this, but we favor the SLIC algorithm here (Achanta et al., 2012).  Since our standard, default implimentation assumes Euclidean distances, we do not cluster the radiances directly.  Instead, we apply SLIC in an informative orthogonal basis representation based on the top 5 principal components."
   ]
  },
  {
   "cell_type": "code",
   "execution_count": 5,
   "metadata": {},
   "outputs": [
    {
     "ename": "NameError",
     "evalue": "name 'mm' is not defined",
     "output_type": "error",
     "traceback": [
      "\u001b[0;31m---------------------------------------------------------------------------\u001b[0m",
      "\u001b[0;31mNameError\u001b[0m                                 Traceback (most recent call last)",
      "\u001b[0;32m<ipython-input-5-0c417ee8dc41>\u001b[0m in \u001b[0;36m<module>\u001b[0;34m\u001b[0m\n\u001b[1;32m      3\u001b[0m \u001b[0;34m\u001b[0m\u001b[0m\n\u001b[1;32m      4\u001b[0m \u001b[0;31m# Change from BIP to a long list of spectra\u001b[0m\u001b[0;34m\u001b[0m\u001b[0;34m\u001b[0m\u001b[0;34m\u001b[0m\u001b[0m\n\u001b[0;32m----> 5\u001b[0;31m \u001b[0mX\u001b[0m \u001b[0;34m=\u001b[0m \u001b[0ms\u001b[0m\u001b[0;34m.\u001b[0m\u001b[0masarray\u001b[0m\u001b[0;34m(\u001b[0m\u001b[0mmm\u001b[0m\u001b[0;34m,\u001b[0m \u001b[0mdtype\u001b[0m \u001b[0;34m=\u001b[0m \u001b[0ms\u001b[0m\u001b[0;34m.\u001b[0m\u001b[0mfloat32\u001b[0m\u001b[0;34m)\u001b[0m\u001b[0;34m.\u001b[0m\u001b[0mreshape\u001b[0m\u001b[0;34m(\u001b[0m\u001b[0;34m[\u001b[0m\u001b[0mrows\u001b[0m\u001b[0;34m*\u001b[0m\u001b[0mcols\u001b[0m\u001b[0;34m,\u001b[0m \u001b[0mbands\u001b[0m\u001b[0;34m]\u001b[0m\u001b[0;34m)\u001b[0m\u001b[0;34m\u001b[0m\u001b[0;34m\u001b[0m\u001b[0m\n\u001b[0m\u001b[1;32m      6\u001b[0m \u001b[0;34m\u001b[0m\u001b[0m\n\u001b[1;32m      7\u001b[0m \u001b[0;31m# Excluding bad locations, calculate top PCA coefficients\u001b[0m\u001b[0;34m\u001b[0m\u001b[0;34m\u001b[0m\u001b[0;34m\u001b[0m\u001b[0m\n",
      "\u001b[0;31mNameError\u001b[0m: name 'mm' is not defined"
     ]
    }
   ],
   "source": [
    "from skimage.segmentation import slic\n",
    "from scipy.linalg import eigh, norm\n",
    "\n",
    "# Change from BIP to a long list of spectra\n",
    "X = s.asarray(mm, dtype = s.float32).reshape([rows*cols, bands])\n",
    "\n",
    "# Excluding bad locations, calculate top PCA coefficients\n",
    "mu = X.mean(axis=0)\n",
    "C  = s.cov(X, rowvar=False)\n",
    "[v,d] = eigh(C)\n",
    "\n",
    "# Determine segmentation compactness scaling based on top 5 eigenvalues\n",
    "n_pca = 5\n",
    "cmpct = norm(s.sqrt(v[-n_pca:]))\n",
    "\n",
    "# Project, redimension as an image with 5 channels, and segment\n",
    "X_pca = (X-mu) @ d[:,-n_pca:]\n",
    "X_pca = X_pca.reshape([rows, cols, n_pca])\n",
    "\n",
    "segs  = 200\n",
    "labels = slic(X_pca, n_segments=segs, compactness=cmpct,\n",
    "              max_iter=10, sigma=0, multichannel=True,\n",
    "              enforce_connectivity=True, min_size_factor=0.5,\n",
    "              max_size_factor=3)\n",
    "lbl = s.unique(labels)\n",
    "segs = len(lbl)\n",
    "color_index = lbl[s.argsort(s.rand(segs))]\n",
    "\n",
    "color_labels = s.zeros((rows,cols))\n",
    "for r in range(rows):\n",
    "    for c in range(cols):\n",
    "        color_labels[r, c] = color_index[labels[r, c]]  \n",
    "\n",
    "borders = rgb.copy()\n",
    "for r in range(1,rows):  \n",
    "    for c in range(1,cols):\n",
    "        if color_labels[r-1,c-1] != color_labels[r,c]:\n",
    "            borders[r,c,:] = (0,0,0)\n",
    "\n",
    "figsize(15,10)\n",
    "plt.subplot(1,2,1)\n",
    "plt.imshow(rgb)\n",
    "plt.title('RGB Channels')\n",
    "          \n",
    "fig = plt.subplot(1,2,2)\n",
    "plt.imshow(borders)\n",
    "plt.title('Segmentation (SLIC)');\n",
    "\n",
    "plt.savefig('segmentation.pdf');"
   ]
  },
  {
   "cell_type": "markdown",
   "metadata": {},
   "source": [
    "Here is an example of the PCA projection (three of five bases illustrated using false color RGB)."
   ]
  },
  {
   "cell_type": "code",
   "execution_count": 6,
   "metadata": {},
   "outputs": [
    {
     "ename": "NameError",
     "evalue": "name 'X_pca' is not defined",
     "output_type": "error",
     "traceback": [
      "\u001b[0;31m---------------------------------------------------------------------------\u001b[0m",
      "\u001b[0;31mNameError\u001b[0m                                 Traceback (most recent call last)",
      "\u001b[0;32m<ipython-input-6-ddcf46611f1f>\u001b[0m in \u001b[0;36m<module>\u001b[0;34m\u001b[0m\n\u001b[0;32m----> 1\u001b[0;31m \u001b[0moffset\u001b[0m \u001b[0;34m=\u001b[0m \u001b[0ms\u001b[0m\u001b[0;34m.\u001b[0m\u001b[0marray\u001b[0m\u001b[0;34m(\u001b[0m\u001b[0;34m[\u001b[0m\u001b[0ms\u001b[0m\u001b[0;34m.\u001b[0m\u001b[0mmean\u001b[0m\u001b[0;34m(\u001b[0m\u001b[0mX_pca\u001b[0m\u001b[0;34m[\u001b[0m\u001b[0;34m:\u001b[0m\u001b[0;34m,\u001b[0m\u001b[0;34m:\u001b[0m\u001b[0;34m,\u001b[0m\u001b[0mi\u001b[0m\u001b[0;34m]\u001b[0m\u001b[0;34m)\u001b[0m \u001b[0;32mfor\u001b[0m \u001b[0mi\u001b[0m \u001b[0;32min\u001b[0m \u001b[0;34m[\u001b[0m\u001b[0;36m0\u001b[0m\u001b[0;34m,\u001b[0m\u001b[0;36m1\u001b[0m\u001b[0;34m,\u001b[0m\u001b[0;36m2\u001b[0m\u001b[0;34m]\u001b[0m\u001b[0;34m]\u001b[0m\u001b[0;34m)\u001b[0m\u001b[0;34m\u001b[0m\u001b[0;34m\u001b[0m\u001b[0m\n\u001b[0m\u001b[1;32m      2\u001b[0m \u001b[0mscaling\u001b[0m \u001b[0;34m=\u001b[0m \u001b[0ms\u001b[0m\u001b[0;34m.\u001b[0m\u001b[0marray\u001b[0m\u001b[0;34m(\u001b[0m\u001b[0;34m[\u001b[0m\u001b[0ms\u001b[0m\u001b[0;34m.\u001b[0m\u001b[0mstd\u001b[0m\u001b[0;34m(\u001b[0m\u001b[0mX_pca\u001b[0m\u001b[0;34m[\u001b[0m\u001b[0;34m:\u001b[0m\u001b[0;34m,\u001b[0m\u001b[0;34m:\u001b[0m\u001b[0;34m,\u001b[0m\u001b[0mi\u001b[0m\u001b[0;34m]\u001b[0m\u001b[0;34m)\u001b[0m \u001b[0;32mfor\u001b[0m \u001b[0mi\u001b[0m \u001b[0;32min\u001b[0m \u001b[0;34m[\u001b[0m\u001b[0;36m0\u001b[0m\u001b[0;34m,\u001b[0m\u001b[0;36m1\u001b[0m\u001b[0;34m,\u001b[0m\u001b[0;36m2\u001b[0m\u001b[0;34m]\u001b[0m\u001b[0;34m]\u001b[0m\u001b[0;34m)\u001b[0m\u001b[0;34m*\u001b[0m\u001b[0;36m2.0\u001b[0m\u001b[0;34m\u001b[0m\u001b[0;34m\u001b[0m\u001b[0m\n\u001b[1;32m      3\u001b[0m \u001b[0mplt\u001b[0m\u001b[0;34m.\u001b[0m\u001b[0mimshow\u001b[0m\u001b[0;34m(\u001b[0m\u001b[0;34m(\u001b[0m\u001b[0mX_pca\u001b[0m\u001b[0;34m[\u001b[0m\u001b[0;34m:\u001b[0m\u001b[0;34m,\u001b[0m\u001b[0;34m:\u001b[0m\u001b[0;34m,\u001b[0m\u001b[0ms\u001b[0m\u001b[0;34m.\u001b[0m\u001b[0marray\u001b[0m\u001b[0;34m(\u001b[0m\u001b[0;34m[\u001b[0m\u001b[0;36m0\u001b[0m\u001b[0;34m,\u001b[0m\u001b[0;36m1\u001b[0m\u001b[0;34m,\u001b[0m\u001b[0;36m2\u001b[0m\u001b[0;34m]\u001b[0m\u001b[0;34m)\u001b[0m\u001b[0;34m]\u001b[0m\u001b[0;34m+\u001b[0m\u001b[0moffset\u001b[0m\u001b[0;34m)\u001b[0m\u001b[0;34m/\u001b[0m\u001b[0mscaling\u001b[0m\u001b[0;34m)\u001b[0m\u001b[0;34m;\u001b[0m\u001b[0;34m\u001b[0m\u001b[0;34m\u001b[0m\u001b[0m\n",
      "\u001b[0;32m<ipython-input-6-ddcf46611f1f>\u001b[0m in \u001b[0;36m<listcomp>\u001b[0;34m(.0)\u001b[0m\n\u001b[0;32m----> 1\u001b[0;31m \u001b[0moffset\u001b[0m \u001b[0;34m=\u001b[0m \u001b[0ms\u001b[0m\u001b[0;34m.\u001b[0m\u001b[0marray\u001b[0m\u001b[0;34m(\u001b[0m\u001b[0;34m[\u001b[0m\u001b[0ms\u001b[0m\u001b[0;34m.\u001b[0m\u001b[0mmean\u001b[0m\u001b[0;34m(\u001b[0m\u001b[0mX_pca\u001b[0m\u001b[0;34m[\u001b[0m\u001b[0;34m:\u001b[0m\u001b[0;34m,\u001b[0m\u001b[0;34m:\u001b[0m\u001b[0;34m,\u001b[0m\u001b[0mi\u001b[0m\u001b[0;34m]\u001b[0m\u001b[0;34m)\u001b[0m \u001b[0;32mfor\u001b[0m \u001b[0mi\u001b[0m \u001b[0;32min\u001b[0m \u001b[0;34m[\u001b[0m\u001b[0;36m0\u001b[0m\u001b[0;34m,\u001b[0m\u001b[0;36m1\u001b[0m\u001b[0;34m,\u001b[0m\u001b[0;36m2\u001b[0m\u001b[0;34m]\u001b[0m\u001b[0;34m]\u001b[0m\u001b[0;34m)\u001b[0m\u001b[0;34m\u001b[0m\u001b[0;34m\u001b[0m\u001b[0m\n\u001b[0m\u001b[1;32m      2\u001b[0m \u001b[0mscaling\u001b[0m \u001b[0;34m=\u001b[0m \u001b[0ms\u001b[0m\u001b[0;34m.\u001b[0m\u001b[0marray\u001b[0m\u001b[0;34m(\u001b[0m\u001b[0;34m[\u001b[0m\u001b[0ms\u001b[0m\u001b[0;34m.\u001b[0m\u001b[0mstd\u001b[0m\u001b[0;34m(\u001b[0m\u001b[0mX_pca\u001b[0m\u001b[0;34m[\u001b[0m\u001b[0;34m:\u001b[0m\u001b[0;34m,\u001b[0m\u001b[0;34m:\u001b[0m\u001b[0;34m,\u001b[0m\u001b[0mi\u001b[0m\u001b[0;34m]\u001b[0m\u001b[0;34m)\u001b[0m \u001b[0;32mfor\u001b[0m \u001b[0mi\u001b[0m \u001b[0;32min\u001b[0m \u001b[0;34m[\u001b[0m\u001b[0;36m0\u001b[0m\u001b[0;34m,\u001b[0m\u001b[0;36m1\u001b[0m\u001b[0;34m,\u001b[0m\u001b[0;36m2\u001b[0m\u001b[0;34m]\u001b[0m\u001b[0;34m]\u001b[0m\u001b[0;34m)\u001b[0m\u001b[0;34m*\u001b[0m\u001b[0;36m2.0\u001b[0m\u001b[0;34m\u001b[0m\u001b[0;34m\u001b[0m\u001b[0m\n\u001b[1;32m      3\u001b[0m \u001b[0mplt\u001b[0m\u001b[0;34m.\u001b[0m\u001b[0mimshow\u001b[0m\u001b[0;34m(\u001b[0m\u001b[0;34m(\u001b[0m\u001b[0mX_pca\u001b[0m\u001b[0;34m[\u001b[0m\u001b[0;34m:\u001b[0m\u001b[0;34m,\u001b[0m\u001b[0;34m:\u001b[0m\u001b[0;34m,\u001b[0m\u001b[0ms\u001b[0m\u001b[0;34m.\u001b[0m\u001b[0marray\u001b[0m\u001b[0;34m(\u001b[0m\u001b[0;34m[\u001b[0m\u001b[0;36m0\u001b[0m\u001b[0;34m,\u001b[0m\u001b[0;36m1\u001b[0m\u001b[0;34m,\u001b[0m\u001b[0;36m2\u001b[0m\u001b[0;34m]\u001b[0m\u001b[0;34m)\u001b[0m\u001b[0;34m]\u001b[0m\u001b[0;34m+\u001b[0m\u001b[0moffset\u001b[0m\u001b[0;34m)\u001b[0m\u001b[0;34m/\u001b[0m\u001b[0mscaling\u001b[0m\u001b[0;34m)\u001b[0m\u001b[0;34m;\u001b[0m\u001b[0;34m\u001b[0m\u001b[0;34m\u001b[0m\u001b[0m\n",
      "\u001b[0;31mNameError\u001b[0m: name 'X_pca' is not defined"
     ]
    }
   ],
   "source": [
    "offset = s.array([s.mean(X_pca[:,:,i]) for i in [0,1,2]])\n",
    "scaling = s.array([s.std(X_pca[:,:,i]) for i in [0,1,2]])*2.0\n",
    "plt.imshow((X_pca[:,:,s.array([0,1,2])]+offset)/scaling);"
   ]
  },
  {
   "cell_type": "markdown",
   "metadata": {},
   "source": [
    "Next, we perform the full inversion on this subset of representative reference spectra."
   ]
  },
  {
   "cell_type": "code",
   "execution_count": null,
   "metadata": {},
   "outputs": [],
   "source": [
    "rdn_subset = s.zeros((segs, bands))\n",
    "rfl_subset = s.zeros((segs, bands))\n",
    "for i in range(segs):\n",
    "    if i%5==0: \n",
    "        print('inverting %i of %i' % (i+1, segs))\n",
    "    radiance = X[labels.flat == i, :].mean(axis=0)\n",
    "    rdn_subset[i,:] = radiance \n",
    "    state_trajectory = iv.invert(radiance, geom)\n",
    "    state_est = state_trajectory[-1]\n",
    "    rfl_subset[i,:] = state_est[:len(wavelengths)];"
   ]
  },
  {
   "cell_type": "markdown",
   "metadata": {},
   "source": [
    "Finally, we extrapolate the result to all spectra.  For every spectrum in the cube, we find the set of \"nearest\" reference spectra, and treat these radiance/reflectance pairs in an empirical line prediction.  Here we define \"nearest\" simply using image coordinates, but you can imagine more sophisticated geographic, environmental, or 3-D measures as well as those that look for similarity in the spectra themselves.  This is not necessary for our example.\n",
    "\n",
    "The empirical line predicts the reflectance of a new query radiance via a least-squares linear regression that is independenet in each wavelength, based on those radiances and reflectances in the neighbor references."
   ]
  },
  {
   "cell_type": "code",
   "execution_count": null,
   "metadata": {},
   "outputs": [],
   "source": [
    "from scipy.spatial import KDTree\n",
    "from scipy.stats import linregress\n",
    "\n",
    "# First set up a matrix of locations, one per spectrum in both\n",
    "# the reference set and the image cube.  We will simply use\n",
    "# row and column indices for simplicity, rather than worrying\n",
    "# about geographic or 3D locations\n",
    "\n",
    "row_grid, col_grid = s.meshgrid(s.arange(rows),s.arange(cols))\n",
    "locations = s.array([col_grid.flatten(), row_grid.flatten()]).T\n",
    "locations_subset = s.zeros((segs, 2))\n",
    "\n",
    "for i in range(segs):\n",
    "    locations_subset[i,:] = locations[labels.flat == i, :].mean(axis=0)\n",
    "tree = KDTree(locations_subset) \n",
    "\n",
    "# Empirical line solution, hashing prior solutions as we go\n",
    "k = 15\n",
    "hash_table = {}\n",
    "reflectance = s.zeros([rows*cols, bands])\n",
    "\n",
    "for idx in range(rows * cols):  \n",
    "    \n",
    "    if idx%20000 == 0:\n",
    "        print('extrapolating spectrum %i / %i' %(idx+1,rows*cols))\n",
    "    \n",
    "    # Look up the point in our KD Tree\n",
    "    label_idx = labels.flat[idx]\n",
    "    \n",
    "    # Have we already calculated coefficients for this set of nearest-\n",
    "    # neighbor spectra?\n",
    "    if label_idx in hash_table:\n",
    "        b = hash_table[label_idx] \n",
    "    \n",
    "    # If not, treat them as a local representative set of paired \n",
    "    # radiance/reflectance spectra to enable an empirical line solution\n",
    "    else:\n",
    "        dists, nn  = tree.query(locations_subset[label_idx,:], k) \n",
    "        xv  = rdn_subset[nn,:]\n",
    "        yv  = rfl_subset[nn,:]\n",
    "        b   = s.zeros((bands,2))\n",
    "        for i in s.arange(bands):\n",
    "            b[i,1], b[i,0], q1, q2, q3 = linregress(xv[:,i], yv[:,i])\n",
    "        hash_table[label_idx] = b\n",
    "    \n",
    "    # Apply the solution coefficients to spectrum \"idx\" in the cube\n",
    "    A = s.array((s.ones(bands), X[idx,:]))\n",
    "    reflectance[idx,:] = (b.T * A).sum(axis=0);\n"
   ]
  },
  {
   "cell_type": "markdown",
   "metadata": {},
   "source": [
    "As a sanity check, we plot an example regression to demonstrate that the relationship is indeed locally linear."
   ]
  },
  {
   "cell_type": "code",
   "execution_count": null,
   "metadata": {},
   "outputs": [],
   "source": [
    " # Look up the point in our KD Tree\n",
    "bnd = 36\n",
    "idx = 121\n",
    "dists, nn  = tree.query(locations[idx,:], k)\n",
    "    \n",
    "xv  = rdn_subset[nn,:]\n",
    "yv  = rfl_subset[nn,:]\n",
    "b   = s.zeros(2)\n",
    "for i in [bnd]:\n",
    "   b[1], b[0], q1, q2, q3 = linregress(xv[:,i], yv[:,i])\n",
    "    \n",
    "figsize(6,6)\n",
    "plt.plot(s.arange(30), b[0] + b[1]*s.arange(30),color=[0.7,0.7,0.7])\n",
    "plt.plot(xv[:,i], yv[:,i], 'ko')\n",
    "plt.plot(X[idx,i],b[0]+b[1]*X[idx,i],'o', color=[0.8,0.2,0.2])\n",
    "plt.xlabel('Radiance, 550 nm')\n",
    "plt.ylabel('Reflectance, 550 nm')\n",
    "plt.xlim([5,25])\n",
    "plt.ylim([0.1,0.5])\n",
    "plt.savefig('example_empirical_line.pdf');"
   ]
  },
  {
   "cell_type": "markdown",
   "metadata": {},
   "source": [
    "Now we have an entire cube of accurate reflectance data.  We show RGB channels, and save the cube to a file for easy browsing and visualization."
   ]
  },
  {
   "cell_type": "code",
   "execution_count": null,
   "metadata": {},
   "outputs": [],
   "source": [
    "plt.imshow(reflectance[:,rgb_indices].reshape((rows,cols,3)) / [0.5, 0.5, 0.3])\n",
    "\n",
    "# Save the result\n",
    "filename = 'ang20140625t192252_rfl_bip'\n",
    "rows, bands, cols = 400, 425, 400\n",
    "mm = s.memmap(filename, dtype=s.float32, mode='w+',shape=(rows,cols,bands))\n",
    "mm[:,:,:] = reflectance.reshape((rows,cols,bands))\n",
    "del mm;"
   ]
  },
  {
   "cell_type": "markdown",
   "metadata": {},
   "source": [
    "<b>Question:</b> Optimal estimation also provides uncertainties for the reflectance estimates in the reference set.  How can we propagate these to the empirical line result, so that every output spectrum has an associated uncertainty?\n",
    "\n",
    "<b>Question:</b> Can you adjust the code so that the inversion respects the noise reduction achieved by averaging, using the appropriate number of spectra for each superpixel?\n"
   ]
  },
  {
   "cell_type": "markdown",
   "metadata": {},
   "source": [
    "## References\n",
    "\n",
    "Achanta, R., Shaji, A., Smith, K., Lucchi, A., Fua, P., & Süsstrunk, S. (2012). SLIC superpixels compared to state-of-the-art superpixel methods. IEEE transactions on pattern analysis and machine intelligence, 34(11), 2274-2282."
   ]
  },
  {
   "cell_type": "markdown",
   "metadata": {},
   "source": [
    "-------------\n",
    "<b>Acknowledgements</b>: A portion of this research was performed at the Jet Propulsion Laboratory, California Institute of Technology. We acknowledge the support of a PRISM AITT grant from the National Aeronautics and Space Administration (NASA) Earth Science Technology Office. We acknowledge the support of the JPL and Caltech Presidents’ and Directors’ Fund Program. We thank other supporting sponsors including the NASA Earth Science Division for the HyspIRI preparatory campaign, the AVIRIS-NG instrument and the data analysis program “Utilization of Airborne Visible/Infrared Imaging Spectrometer Next Generation Data from an Airborne Campaign in India” NNH16ZDA001N-AVRSNG, for its support of the algorithm development; the Jet Propulsion Laboratory Research and Technology Development Program; and the NASA Center Innovation Fund managed in conjunction with the Jet Propulsion Laboratory Office of the Chief Scientist and Technologist. Copyright 2019 California Institute of Technology. US Government Support Acknowledged."
   ]
  }
 ],
 "metadata": {
  "anaconda-cloud": {},
  "kernelspec": {
   "display_name": "Python 3",
   "language": "python",
   "name": "python3"
  },
  "language_info": {
   "codemirror_mode": {
    "name": "ipython",
    "version": 3
   },
   "file_extension": ".py",
   "mimetype": "text/x-python",
   "name": "python",
   "nbconvert_exporter": "python",
   "pygments_lexer": "ipython3",
   "version": "3.7.4"
  },
  "latex_envs": {
   "LaTeX_envs_menu_present": true,
   "autoclose": false,
   "autocomplete": true,
   "bibliofile": "biblio.bib",
   "cite_by": "apalike",
   "current_citInitial": 1,
   "eqLabelWithNumbers": true,
   "eqNumInitial": 1,
   "hotkeys": {
    "equation": "Ctrl-E",
    "itemize": "Ctrl-I"
   },
   "labels_anchors": false,
   "latex_user_defs": false,
   "report_style_numbering": false,
   "user_envs_cfg": false
  }
 },
 "nbformat": 4,
 "nbformat_minor": 1
}
